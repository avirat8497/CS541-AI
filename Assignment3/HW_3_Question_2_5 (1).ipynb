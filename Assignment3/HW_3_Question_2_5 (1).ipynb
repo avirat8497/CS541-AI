{
  "nbformat": 4,
  "nbformat_minor": 0,
  "metadata": {
    "colab": {
      "name": "HW_3_Question_2_5.ipynb",
      "provenance": [],
      "collapsed_sections": []
    },
    "kernelspec": {
      "name": "python3",
      "display_name": "Python 3"
    }
  },
  "cells": [
    {
      "cell_type": "code",
      "metadata": {
        "id": "RKct6tdmyk34"
      },
      "source": [
        "import pandas as pd\n",
        "import numpy as np\n",
        "import random as rand\n",
        "from numpy.linalg import inv\n",
        "from numpy import linalg as LA\n",
        "import matplotlib.pyplot as plt"
      ],
      "execution_count": 56,
      "outputs": []
    },
    {
      "cell_type": "code",
      "metadata": {
        "id": "oeVlJhkfynr6"
      },
      "source": [
        "X = np.random.randn(100,200)"
      ],
      "execution_count": 57,
      "outputs": []
    },
    {
      "cell_type": "code",
      "metadata": {
        "id": "VLXQbwIKyrDq"
      },
      "source": [
        "y = np.random.randn(100)"
      ],
      "execution_count": 58,
      "outputs": []
    },
    {
      "cell_type": "code",
      "metadata": {
        "id": "wP-n0de7y5w4"
      },
      "source": [
        "Xt = X.transpose()"
      ],
      "execution_count": 59,
      "outputs": []
    },
    {
      "cell_type": "code",
      "metadata": {
        "id": "uXYPCcXJy8Ot",
        "outputId": "6e66510a-1272-4151-a026-7c2423fabee7",
        "colab": {
          "base_uri": "https://localhost:8080/"
        }
      },
      "source": [
        "prod = np.dot(Xt,X)\n",
        "prod"
      ],
      "execution_count": 60,
      "outputs": [
        {
          "output_type": "execute_result",
          "data": {
            "text/plain": [
              "array([[ 98.74277069,  13.28231771, -17.72381025, ..., -14.05791169,\n",
              "         -3.51095049,   4.74197053],\n",
              "       [ 13.28231771, 102.78430607,   7.87665685, ...,  -2.75577979,\n",
              "          3.62953244,   5.26623204],\n",
              "       [-17.72381025,   7.87665685, 112.95019198, ...,   7.03121384,\n",
              "         -3.97897768,  11.97539594],\n",
              "       ...,\n",
              "       [-14.05791169,  -2.75577979,   7.03121384, ..., 111.01451221,\n",
              "          1.31010479,   7.28587269],\n",
              "       [ -3.51095049,   3.62953244,  -3.97897768, ...,   1.31010479,\n",
              "        114.85052268,  12.11447969],\n",
              "       [  4.74197053,   5.26623204,  11.97539594, ...,   7.28587269,\n",
              "         12.11447969,  96.67075082]])"
            ]
          },
          "metadata": {
            "tags": []
          },
          "execution_count": 60
        }
      ]
    },
    {
      "cell_type": "code",
      "metadata": {
        "id": "UulSUDgXy-mz",
        "outputId": "083611fe-d08b-4b5a-de00-12061d1abcb9",
        "colab": {
          "base_uri": "https://localhost:8080/"
        }
      },
      "source": [
        "inv_prod = inv(prod)\n",
        "inv_prod"
      ],
      "execution_count": 61,
      "outputs": [
        {
          "output_type": "execute_result",
          "data": {
            "text/plain": [
              "array([[ 3.65551465e+13, -4.98453490e+13, -2.72999268e+13, ...,\n",
              "        -3.27267528e+13,  1.52290476e+12,  3.00146950e+13],\n",
              "       [ 1.06497653e+14, -1.10303644e+14, -1.13535084e+14, ...,\n",
              "        -6.27032961e+13,  3.67135670e+13,  8.67149096e+13],\n",
              "       [-8.82690018e+13,  9.95257380e+13,  8.44396640e+13, ...,\n",
              "         5.70221519e+13, -2.60559529e+13, -7.13195239e+13],\n",
              "       ...,\n",
              "       [ 7.92896875e+12, -5.63866061e+11,  5.65231446e+12, ...,\n",
              "         8.47857780e+12, -5.74237509e+12,  2.37998928e+12],\n",
              "       [ 1.32563599e+13, -2.10436529e+13, -2.41047531e+13, ...,\n",
              "        -6.30264412e+12,  2.47038458e+13,  1.74319541e+13],\n",
              "       [ 7.06231274e+13, -7.64086992e+13, -5.87210466e+13, ...,\n",
              "        -4.47145763e+13,  7.34303171e+12,  5.69510289e+13]])"
            ]
          },
          "metadata": {
            "tags": []
          },
          "execution_count": 61
        }
      ]
    },
    {
      "cell_type": "code",
      "metadata": {
        "id": "vFJXQ5FSzBh5",
        "outputId": "6ff61dab-f341-45bc-c72c-b08829d2fca7",
        "colab": {
          "base_uri": "https://localhost:8080/"
        }
      },
      "source": [
        "w1 = np.dot(inv_prod,Xt)\n",
        "w1"
      ],
      "execution_count": 62,
      "outputs": [
        {
          "output_type": "execute_result",
          "data": {
            "text/plain": [
              "array([[ -1.2132016 , -11.49725403,   3.43595779, ...,  -7.4289865 ,\n",
              "         -7.18531985,  -4.95282494],\n",
              "       [ 11.13012147,   7.16655307,   2.08541345, ...,  -7.58559239,\n",
              "         11.84730226,  19.2337594 ],\n",
              "       [ -4.56498383,   4.76811416,  -1.53860213, ...,   7.66846474,\n",
              "          4.39732476,  -4.72030827],\n",
              "       ...,\n",
              "       [  0.10810584,   0.04447409,   0.12749257, ...,   0.32688355,\n",
              "          0.17219214,  -0.06396018],\n",
              "       [ -0.39083926,  -0.73472573,  -0.04059879, ...,  -1.43662194,\n",
              "         -0.68371934,   0.51012888],\n",
              "       [ -0.81289741,  -1.66848209,   0.02936251, ...,  -2.78419661,\n",
              "         -1.29536217,   0.77079637]])"
            ]
          },
          "metadata": {
            "tags": []
          },
          "execution_count": 62
        }
      ]
    },
    {
      "cell_type": "code",
      "metadata": {
        "id": "VGojacLhzFHM",
        "outputId": "5161be01-1a66-4954-aec8-1cf3fb5b32b4",
        "colab": {
          "base_uri": "https://localhost:8080/"
        }
      },
      "source": [
        "w_opt = np.dot(w1,y)\n",
        "w_opt"
      ],
      "execution_count": 63,
      "outputs": [
        {
          "output_type": "execute_result",
          "data": {
            "text/plain": [
              "array([ 2.32930351e+01, -1.17711016e+02, -4.77917920e+01, -2.14553666e+02,\n",
              "       -1.61315578e+02, -1.95010738e+02, -7.05815889e+01, -1.30014540e+02,\n",
              "        4.08573199e+01, -1.45341088e+02, -7.32124982e+01,  7.08557026e+01,\n",
              "        7.29643726e+01,  7.24909459e-01, -1.26120790e+02,  1.26665345e+02,\n",
              "       -7.18440257e+01, -2.52293597e+02, -2.27607774e+02,  1.54606868e+02,\n",
              "        1.34811182e+02,  1.55828671e+01,  1.56190782e+02,  7.16811044e+01,\n",
              "        1.92732494e+02,  2.68002775e+01,  1.14250876e+00, -2.95325830e+01,\n",
              "        2.13857523e+01,  1.84579611e+02, -2.33598759e+02,  3.83515993e+02,\n",
              "        1.49820246e+01, -2.20124152e+02, -1.28697843e+02,  6.01521998e+01,\n",
              "       -1.14723910e+01, -3.82164012e+01, -3.75546302e+01, -3.04283212e+02,\n",
              "       -1.55653532e+02, -1.27493280e+01, -2.36509296e+02, -1.41112267e+02,\n",
              "       -1.96586735e+02, -2.22101020e+01, -2.71823360e+01,  3.26739617e+01,\n",
              "       -3.59176925e+01, -1.36334706e+02, -7.33983337e+01, -1.92384493e+01,\n",
              "       -2.02156402e+01,  7.98809200e+01,  2.74428272e+01,  1.29279542e+02,\n",
              "        1.16166037e+02, -1.40349311e+02,  2.36880981e+02, -1.10350308e+02,\n",
              "       -1.21329606e+01,  1.20283900e+02,  1.13484833e+01, -1.56161395e+02,\n",
              "        1.02215437e+02, -2.35736725e+01,  5.32889892e+01, -2.31202782e+01,\n",
              "       -1.76646780e+02,  5.04532500e+01, -2.01891392e+02,  1.26132923e+02,\n",
              "        2.70199385e+02, -5.79518803e+01,  2.76532595e+01,  7.54024917e+01,\n",
              "        1.63454917e+02, -1.22831549e+02,  2.34489465e+01, -3.27030193e+00,\n",
              "        1.19378233e+02, -2.06426899e+02, -1.47700264e+02,  1.39617360e+02,\n",
              "        3.87858076e+01,  1.91102639e+02, -3.15887806e+02, -5.51615138e+01,\n",
              "        7.89396340e+01, -3.99954786e+02,  2.69037400e+01, -9.30906044e+01,\n",
              "       -1.91212216e+02, -4.35624488e+02, -3.05590613e+02, -2.74982829e+00,\n",
              "       -1.09897083e+02, -3.81245090e+01, -7.53110962e+01,  3.69840291e+01,\n",
              "       -2.56212602e+01,  2.39275606e+01,  5.19036598e+00, -2.39542510e+01,\n",
              "       -1.33703220e+01,  2.76512341e+01,  2.25029106e+01, -4.84031553e+00,\n",
              "       -5.89681126e+01,  4.27250932e+01,  2.93138869e+01, -3.85646028e-01,\n",
              "        6.19686764e+01,  8.01797876e+00, -1.53755919e+01, -1.63256582e+01,\n",
              "       -3.40449814e+01,  2.30790817e+01, -4.55670969e+00,  1.38079410e+01,\n",
              "        2.45305289e+00,  1.44360752e+01,  1.35576290e+00,  1.61920235e+00,\n",
              "        1.18162144e+01, -4.89134752e+01, -1.15454956e+01,  8.81350474e+00,\n",
              "        5.63353460e-01,  1.67586587e+01,  3.24354008e+00,  5.49501721e+01,\n",
              "        1.68776777e+01,  2.83575228e+01,  2.26839822e+01,  2.60832355e+01,\n",
              "       -1.31382780e+01,  2.88268691e+01, -2.47790501e+01, -1.02643549e+01,\n",
              "        3.16785669e+01, -3.83172167e+01, -1.81877723e+00, -8.81854147e+00,\n",
              "       -1.98092380e+01,  9.10216027e-01,  1.43545121e+01, -1.81804038e+01,\n",
              "       -2.77870049e+01, -1.15538998e+01, -9.90174580e+00,  5.47518245e+00,\n",
              "       -4.21631244e+01,  2.55041446e-01,  3.36883523e+01, -3.97051350e+00,\n",
              "        1.98943160e+01,  1.02743244e+01,  3.06139695e+00,  1.06817246e+01,\n",
              "        1.79548747e+01,  1.47774112e+01,  1.19724980e+01, -4.63853634e+00,\n",
              "       -4.37228932e+01,  2.63752567e+01, -1.21935930e+01, -2.10705965e+01,\n",
              "        1.46070245e+00, -5.78711799e+00,  1.63588182e+01, -2.09737986e+01,\n",
              "       -8.25448183e+00, -4.21009396e+00,  1.47547650e+01, -1.08156066e+01,\n",
              "        1.74515651e+01,  1.96727026e+01, -5.01604102e+01,  1.49506532e+01,\n",
              "       -3.17325011e+00, -1.29022933e+01, -5.74718869e+00, -1.26832128e+00,\n",
              "        9.20861252e-01,  2.03272491e+00,  3.93777230e+00, -2.21856018e+01,\n",
              "       -6.84761227e+00, -6.18929311e+00,  5.70663127e+00, -8.93534806e+00,\n",
              "       -9.68169509e-01,  1.93229208e+01, -3.97458349e+01, -2.07638449e+00,\n",
              "        8.99123201e+00, -3.97971153e-01,  9.79754628e+00,  1.15332095e+01])"
            ]
          },
          "metadata": {
            "tags": []
          },
          "execution_count": 63
        }
      ]
    },
    {
      "cell_type": "code",
      "metadata": {
        "id": "sxC-uq1IzH3v"
      },
      "source": [
        "hessian_matrix = np.dot(Xt,X)"
      ],
      "execution_count": 64,
      "outputs": []
    },
    {
      "cell_type": "code",
      "metadata": {
        "id": "aMvLPLajzMmH",
        "outputId": "ba0c82e6-5470-4911-f490-067cce7f3d74",
        "colab": {
          "base_uri": "https://localhost:8080/"
        }
      },
      "source": [
        "eigenvalue = LA.eigvals(hessian_matrix)\n",
        "eigenvalue"
      ],
      "execution_count": 80,
      "outputs": [
        {
          "output_type": "execute_result",
          "data": {
            "text/plain": [
              "array([ 5.64512702e+02+0.00000000e+00j,  5.48747739e+02+0.00000000e+00j,\n",
              "        5.29684015e+02+0.00000000e+00j,  5.07959125e+02+0.00000000e+00j,\n",
              "        4.89442381e+02+0.00000000e+00j,  4.73608880e+02+0.00000000e+00j,\n",
              "        4.64706870e+02+0.00000000e+00j,  4.48250035e+02+0.00000000e+00j,\n",
              "        4.37745617e+02+0.00000000e+00j,  4.34496571e+02+0.00000000e+00j,\n",
              "        4.15636327e+02+0.00000000e+00j,  4.11225184e+02+0.00000000e+00j,\n",
              "        3.98322596e+02+0.00000000e+00j,  3.91386576e+02+0.00000000e+00j,\n",
              "        3.84658368e+02+0.00000000e+00j,  3.80348928e+02+0.00000000e+00j,\n",
              "        3.76600202e+02+0.00000000e+00j,  3.68587743e+02+0.00000000e+00j,\n",
              "        3.51074605e+02+0.00000000e+00j,  3.17162609e+02+0.00000000e+00j,\n",
              "        3.24128566e+02+0.00000000e+00j,  3.21655680e+02+0.00000000e+00j,\n",
              "        3.34020229e+02+0.00000000e+00j,  3.39501446e+02+0.00000000e+00j,\n",
              "        3.10869525e+02+0.00000000e+00j,  2.73647061e+02+0.00000000e+00j,\n",
              "        2.95050059e+02+0.00000000e+00j,  2.84751622e+02+0.00000000e+00j,\n",
              "        2.88105168e+02+0.00000000e+00j,  2.87341266e+02+0.00000000e+00j,\n",
              "        2.51773696e+02+0.00000000e+00j,  2.59541540e+02+0.00000000e+00j,\n",
              "        2.72675649e+02+0.00000000e+00j,  2.48271368e+02+0.00000000e+00j,\n",
              "        2.36693289e+02+0.00000000e+00j,  2.38764166e+02+0.00000000e+00j,\n",
              "        2.31105700e+02+0.00000000e+00j,  2.25752917e+02+0.00000000e+00j,\n",
              "        2.26208919e+02+0.00000000e+00j,  2.18370426e+02+0.00000000e+00j,\n",
              "        2.03561145e+02+0.00000000e+00j,  2.11978537e+02+0.00000000e+00j,\n",
              "        2.12072075e+02+0.00000000e+00j,  1.83666026e+02+0.00000000e+00j,\n",
              "        1.91370349e+02+0.00000000e+00j,  1.90248316e+02+0.00000000e+00j,\n",
              "        1.88750554e+02+0.00000000e+00j,  1.69927295e+02+0.00000000e+00j,\n",
              "        1.74184362e+02+0.00000000e+00j,  1.77202067e+02+0.00000000e+00j,\n",
              "        1.54041659e+02+0.00000000e+00j,  1.57113573e+02+0.00000000e+00j,\n",
              "        1.62480252e+02+0.00000000e+00j,  1.61074148e+02+0.00000000e+00j,\n",
              "        1.48980087e+02+0.00000000e+00j,  1.44116067e+02+0.00000000e+00j,\n",
              "        1.34383597e+02+0.00000000e+00j,  1.36717868e+02+0.00000000e+00j,\n",
              "        1.39987082e+02+0.00000000e+00j,  1.25234453e+02+0.00000000e+00j,\n",
              "        1.24580297e+02+0.00000000e+00j,  1.19998137e+02+0.00000000e+00j,\n",
              "        1.19410992e+02+0.00000000e+00j,  1.11165321e+02+0.00000000e+00j,\n",
              "        1.07749028e+02+0.00000000e+00j,  1.05177342e+02+0.00000000e+00j,\n",
              "        9.64388952e+01+0.00000000e+00j,  1.01120965e+02+0.00000000e+00j,\n",
              "        1.02136895e+02+0.00000000e+00j,  9.92412784e+01+0.00000000e+00j,\n",
              "        8.98221398e+01+0.00000000e+00j,  8.72442525e+01+0.00000000e+00j,\n",
              "        8.25323199e+01+0.00000000e+00j,  7.73318760e+01+0.00000000e+00j,\n",
              "        2.03170160e+01+0.00000000e+00j,  2.25062305e+01+0.00000000e+00j,\n",
              "        2.88250588e+01+0.00000000e+00j,  2.50674150e+01+0.00000000e+00j,\n",
              "        2.64574681e+01+0.00000000e+00j,  7.03378407e+01+0.00000000e+00j,\n",
              "        8.05111422e+01+0.00000000e+00j,  5.57893983e+01+0.00000000e+00j,\n",
              "        3.37673468e+01+0.00000000e+00j,  6.12291622e+01+0.00000000e+00j,\n",
              "        3.87412265e+01+0.00000000e+00j,  4.18191789e+01+0.00000000e+00j,\n",
              "        4.96017324e+01+0.00000000e+00j,  4.61062592e+01+0.00000000e+00j,\n",
              "        3.58417051e+01+0.00000000e+00j,  4.76813568e+01+0.00000000e+00j,\n",
              "        8.17267584e+01+0.00000000e+00j,  2.38217146e+01+0.00000000e+00j,\n",
              "        3.45184225e+01+0.00000000e+00j,  4.34420725e+01+0.00000000e+00j,\n",
              "        6.67051215e+01+0.00000000e+00j,  6.78175828e+01+0.00000000e+00j,\n",
              "        6.43850561e+01+0.00000000e+00j,  5.06848900e+01+0.00000000e+00j,\n",
              "        5.99754049e+01+0.00000000e+00j,  6.36251079e+01+0.00000000e+00j,\n",
              "       -1.45390758e-13+0.00000000e+00j,  8.98414685e-14+3.12792153e-15j,\n",
              "        8.98414685e-14-3.12792153e-15j,  8.21302116e-14+0.00000000e+00j,\n",
              "        7.13993437e-14+2.29052646e-14j,  7.13993437e-14-2.29052646e-14j,\n",
              "        7.50750344e-14+1.34922008e-14j,  7.50750344e-14-1.34922008e-14j,\n",
              "        7.40694471e-14+0.00000000e+00j, -7.84907578e-14+0.00000000e+00j,\n",
              "       -7.07330070e-14+1.39866108e-14j, -7.07330070e-14-1.39866108e-14j,\n",
              "       -6.96192555e-14+3.78248466e-15j, -6.96192555e-14-3.78248466e-15j,\n",
              "       -6.04382206e-14+1.34390272e-14j, -6.04382206e-14-1.34390272e-14j,\n",
              "        6.68736979e-14+1.22542146e-14j,  6.68736979e-14-1.22542146e-14j,\n",
              "        6.75958497e-14+0.00000000e+00j,  5.98144207e-14+2.17344148e-14j,\n",
              "        5.98144207e-14-2.17344148e-14j, -5.36178932e-14+2.42637139e-14j,\n",
              "       -5.36178932e-14-2.42637139e-14j, -4.46977161e-14+2.87676474e-14j,\n",
              "       -4.46977161e-14-2.87676474e-14j, -5.59454736e-14+5.17507348e-15j,\n",
              "       -5.59454736e-14-5.17507348e-15j, -1.23260084e-15+4.64078160e-14j,\n",
              "       -1.23260084e-15-4.64078160e-14j,  4.86950474e-14+2.37254568e-14j,\n",
              "        4.86950474e-14-2.37254568e-14j, -5.02628865e-14+8.81036932e-15j,\n",
              "       -5.02628865e-14-8.81036932e-15j,  5.80467996e-14+0.00000000e+00j,\n",
              "       -4.10495450e-14+1.98327411e-14j, -4.10495450e-14-1.98327411e-14j,\n",
              "       -1.62587783e-14+3.57596808e-14j, -1.62587783e-14-3.57596808e-14j,\n",
              "        5.31334323e-14+6.99799083e-15j,  5.31334323e-14-6.99799083e-15j,\n",
              "        4.48927076e-14+1.49304920e-14j,  4.48927076e-14-1.49304920e-14j,\n",
              "       -4.41815720e-14+1.07853263e-14j, -4.41815720e-14-1.07853263e-14j,\n",
              "       -4.34173353e-14+0.00000000e+00j, -3.98317254e-14+1.47547812e-14j,\n",
              "       -3.98317254e-14-1.47547812e-14j, -3.26738318e-14+2.11791761e-14j,\n",
              "       -3.26738318e-14-2.11791761e-14j,  5.93032684e-15+3.34368947e-14j,\n",
              "        5.93032684e-15-3.34368947e-14j, -2.28378891e-14+2.52926958e-14j,\n",
              "       -2.28378891e-14-2.52926958e-14j,  4.67245252e-14+3.15017737e-15j,\n",
              "        4.67245252e-14-3.15017737e-15j,  3.26288078e-14+2.15508658e-14j,\n",
              "        3.26288078e-14-2.15508658e-14j,  2.18709090e-14+2.49599357e-14j,\n",
              "        2.18709090e-14-2.49599357e-14j, -3.75845260e-14+9.65167729e-15j,\n",
              "       -3.75845260e-14-9.65167729e-15j,  2.22968581e-14+2.21878267e-14j,\n",
              "        2.22968581e-14-2.21878267e-14j,  3.09970319e-14+1.74554310e-14j,\n",
              "        3.09970319e-14-1.74554310e-14j,  3.55164782e-14+9.24115830e-15j,\n",
              "        3.55164782e-14-9.24115830e-15j,  8.44646813e-15+2.35522544e-14j,\n",
              "        8.44646813e-15-2.35522544e-14j, -3.10617697e-14+1.08732611e-14j,\n",
              "       -3.10617697e-14-1.08732611e-14j, -1.08072798e-14+2.23541907e-14j,\n",
              "       -1.08072798e-14-2.23541907e-14j, -1.39165494e-14+2.01817150e-14j,\n",
              "       -1.39165494e-14-2.01817150e-14j,  3.95056181e-14+0.00000000e+00j,\n",
              "       -3.21510056e-14+0.00000000e+00j,  3.49656943e-14+0.00000000e+00j,\n",
              "        3.36144616e-14+0.00000000e+00j,  2.58204385e-15+1.61836205e-14j,\n",
              "        2.58204385e-15-1.61836205e-14j, -3.64679087e-15+1.31699665e-14j,\n",
              "       -3.64679087e-15-1.31699665e-14j,  1.54650658e-14+1.10009568e-14j,\n",
              "        1.54650658e-14-1.10009568e-14j, -1.66606953e-14+8.96825889e-15j,\n",
              "       -1.66606953e-14-8.96825889e-15j, -2.39250912e-14+2.69490482e-15j,\n",
              "       -2.39250912e-14-2.69490482e-15j,  2.38519328e-14+8.06499584e-15j,\n",
              "        2.38519328e-14-8.06499584e-15j,  1.07396841e-14+7.15647571e-15j,\n",
              "        1.07396841e-14-7.15647571e-15j,  1.60314644e-14+0.00000000e+00j,\n",
              "       -5.95125306e-15+6.27270774e-15j, -5.95125306e-15-6.27270774e-15j,\n",
              "       -3.89110900e-15+0.00000000e+00j, -1.32545272e-14+0.00000000e+00j,\n",
              "       -9.94008620e-15+0.00000000e+00j,  7.78023915e-15+0.00000000e+00j])"
            ]
          },
          "metadata": {
            "tags": []
          },
          "execution_count": 80
        }
      ]
    },
    {
      "cell_type": "code",
      "metadata": {
        "id": "ki-FoUjjzSxW",
        "outputId": "9367a3d1-5c46-4727-b2f9-11980c97395e",
        "colab": {
          "base_uri": "https://localhost:8080/"
        }
      },
      "source": [
        "max = np.max(np.absolute(eigenvalue))\n",
        "max"
      ],
      "execution_count": 81,
      "outputs": [
        {
          "output_type": "execute_result",
          "data": {
            "text/plain": [
              "564.5127020821294"
            ]
          },
          "metadata": {
            "tags": []
          },
          "execution_count": 81
        }
      ]
    },
    {
      "cell_type": "code",
      "metadata": {
        "id": "FvYbGlFMzXRm",
        "outputId": "57e44091-6649-4d1b-dea8-e5611efa6002",
        "colab": {
          "base_uri": "https://localhost:8080/"
        }
      },
      "source": [
        "min = np.min(np.absolute(eigenvalue))\n",
        "min"
      ],
      "execution_count": 82,
      "outputs": [
        {
          "output_type": "execute_result",
          "data": {
            "text/plain": [
              "3.891108995655164e-15"
            ]
          },
          "metadata": {
            "tags": []
          },
          "execution_count": 82
        }
      ]
    },
    {
      "cell_type": "code",
      "metadata": {
        "id": "qVUL8nI5zZgi"
      },
      "source": [
        "upper_bound = 1 / max"
      ],
      "execution_count": 83,
      "outputs": []
    },
    {
      "cell_type": "code",
      "metadata": {
        "id": "uoQEjeG4znOr"
      },
      "source": [
        "w = np.zeros((200,))"
      ],
      "execution_count": 84,
      "outputs": []
    },
    {
      "cell_type": "code",
      "metadata": {
        "id": "ECt1Ysqlzrfm"
      },
      "source": [
        "gd = [0.01,0.1,1,2,20,100]"
      ],
      "execution_count": 85,
      "outputs": []
    },
    {
      "cell_type": "code",
      "metadata": {
        "id": "n6HVUet_zulL"
      },
      "source": [
        "lr = np.multiply(upper_bound,gd)"
      ],
      "execution_count": 86,
      "outputs": []
    },
    {
      "cell_type": "code",
      "metadata": {
        "id": "ZT8VGYG-zxuM",
        "outputId": "24a131be-a63c-4a9f-d2d8-d7c52555eaf9",
        "colab": {
          "base_uri": "https://localhost:8080/",
          "height": 1000
        }
      },
      "source": [
        "for j in lr:\n",
        "  wt_new = []\n",
        "  wt_new.append(w)\n",
        "  for i in range(1,101):\n",
        "    wt_new.append(wt_new[i-1] + j*np.dot(Xt,(y-np.dot(X,wt_new[i-1])))) \n",
        "  norm = []\n",
        "  for i in range(1,101):\n",
        "    norm.append(0.5 * ((LA.norm(y - np.dot(X,wt_new[i]))))**2)\n",
        "  plt.plot(range(1,101),norm)\n",
        "  plt.show()"
      ],
      "execution_count": 88,
      "outputs": [
        {
          "output_type": "display_data",
          "data": {
            "image/png": "[encoded data removed]",
            "text/plain": [
              "<Figure size 432x288 with 1 Axes>"
            ]
          },
          "metadata": {
            "tags": [],
            "needs_background": "light"
          }
        },
        {
          "output_type": "display_data",
          "data": {
            "image/png": "[encoded data removed]",
            "text/plain": [
              "<Figure size 432x288 with 1 Axes>"
            ]
          },
          "metadata": {
            "tags": [],
            "needs_background": "light"
          }
        },
        {
          "output_type": "display_data",
          "data": {
            "image/png": "[encoded data removed]",
            "text/plain": [
              "<Figure size 432x288 with 1 Axes>"
            ]
          },
          "metadata": {
            "tags": [],
            "needs_background": "light"
          }
        },
        {
          "output_type": "display_data",
          "data": {
            "image/png": "[encoded data removed]",
            "text/plain": [
              "<Figure size 432x288 with 1 Axes>"
            ]
          },
          "metadata": {
            "tags": [],
            "needs_background": "light"
          }
        },
        {
          "output_type": "display_data",
          "data": {
            "image/png": "[encoded data removed]",
            "text/plain": [
              "<Figure size 432x288 with 1 Axes>"
            ]
          },
          "metadata": {
            "tags": [],
            "needs_background": "light"
          }
        },
        {
          "output_type": "display_data",
          "data": {
            "image/png": "[encoded data removed]",
            "text/plain": [
              "<Figure size 432x288 with 1 Axes>"
            ]
          },
          "metadata": {
            "tags": [],
            "needs_background": "light"
          }
        }
      ]
    },
    {
      "cell_type": "code",
      "metadata": {
        "id": "wNMBrQjWz1nP"
      },
      "source": [
        ""
      ],
      "execution_count": null,
      "outputs": []
    }
  ]
}