{
 "cells": [
  {
   "cell_type": "markdown",
   "metadata": {},
   "source": [
    "# Import libraries"
   ]
  },
  {
   "cell_type": "code",
   "execution_count": 465,
   "metadata": {},
   "outputs": [],
   "source": [
    "import pandas as pd\n",
    "import numpy as np"
   ]
  },
  {
   "cell_type": "markdown",
   "metadata": {},
   "source": [
    "# Import the dataset from the link given in the question"
   ]
  },
  {
   "cell_type": "code",
   "execution_count": 466,
   "metadata": {},
   "outputs": [],
   "source": [
    "data_rating = pd.read_csv('ratings.csv')"
   ]
  },
  {
   "cell_type": "markdown",
   "metadata": {},
   "source": [
    "# Printing first 5 values of the dataset"
   ]
  },
  {
   "cell_type": "code",
   "execution_count": 467,
   "metadata": {},
   "outputs": [
    {
     "data": {
      "text/html": [
       "<div>\n",
       "<style scoped>\n",
       "    .dataframe tbody tr th:only-of-type {\n",
       "        vertical-align: middle;\n",
       "    }\n",
       "\n",
       "    .dataframe tbody tr th {\n",
       "        vertical-align: top;\n",
       "    }\n",
       "\n",
       "    .dataframe thead th {\n",
       "        text-align: right;\n",
       "    }\n",
       "</style>\n",
       "<table border=\"1\" class=\"dataframe\">\n",
       "  <thead>\n",
       "    <tr style=\"text-align: right;\">\n",
       "      <th></th>\n",
       "      <th>userId</th>\n",
       "      <th>movieId</th>\n",
       "      <th>rating</th>\n",
       "      <th>timestamp</th>\n",
       "    </tr>\n",
       "  </thead>\n",
       "  <tbody>\n",
       "    <tr>\n",
       "      <th>0</th>\n",
       "      <td>1</td>\n",
       "      <td>1</td>\n",
       "      <td>4.0</td>\n",
       "      <td>964982703</td>\n",
       "    </tr>\n",
       "    <tr>\n",
       "      <th>1</th>\n",
       "      <td>1</td>\n",
       "      <td>3</td>\n",
       "      <td>4.0</td>\n",
       "      <td>964981247</td>\n",
       "    </tr>\n",
       "    <tr>\n",
       "      <th>2</th>\n",
       "      <td>1</td>\n",
       "      <td>6</td>\n",
       "      <td>4.0</td>\n",
       "      <td>964982224</td>\n",
       "    </tr>\n",
       "    <tr>\n",
       "      <th>3</th>\n",
       "      <td>1</td>\n",
       "      <td>47</td>\n",
       "      <td>5.0</td>\n",
       "      <td>964983815</td>\n",
       "    </tr>\n",
       "    <tr>\n",
       "      <th>4</th>\n",
       "      <td>1</td>\n",
       "      <td>50</td>\n",
       "      <td>5.0</td>\n",
       "      <td>964982931</td>\n",
       "    </tr>\n",
       "  </tbody>\n",
       "</table>\n",
       "</div>"
      ],
      "text/plain": [
       "   userId  movieId  rating  timestamp\n",
       "0       1        1     4.0  964982703\n",
       "1       1        3     4.0  964981247\n",
       "2       1        6     4.0  964982224\n",
       "3       1       47     5.0  964983815\n",
       "4       1       50     5.0  964982931"
      ]
     },
     "execution_count": 467,
     "metadata": {},
     "output_type": "execute_result"
    }
   ],
   "source": [
    "data_rating.head(5)"
   ]
  },
  {
   "cell_type": "markdown",
   "metadata": {},
   "source": [
    "# Creating the nXp matrix for the rating"
   ]
  },
  {
   "cell_type": "code",
   "execution_count": 468,
   "metadata": {},
   "outputs": [],
   "source": [
    "new_rating_data = np.zeros((610,9724))\n",
    "original = list(data_rating['movieId'])\n",
    "unique = list(dict.fromkeys(original))\n",
    "#print(new_rating_data)\n",
    "#print(new_rating_data.shape())\n",
    "new = []\n",
    "for number in original:\n",
    "    new.append(unique.index(number))\n",
    "#print(new)\n",
    "data_rating['new_movieId'] = new\n",
    "#print(data_rating)\n",
    "for i in data_rating.iterrows():\n",
    "    new_rating_data[int(i[1]['userId']-1)][int(i[1]['new_movieId'])] = i[1]['rating']\n",
    "#print(new_rating_data)    "
   ]
  },
  {
   "cell_type": "markdown",
   "metadata": {},
   "source": [
    "# Creating Indexes to form omega for Training and Testing"
   ]
  },
  {
   "cell_type": "code",
   "execution_count": 469,
   "metadata": {},
   "outputs": [],
   "source": [
    "index_list = []\n",
    "for i in range(new_rating_data.shape[0]):\n",
    "    for j in range(new_rating_data.shape[1]):\n",
    "        if(new_rating_data[i][j] != 0):\n",
    "            index_list.append([i,j])\n",
    "#index_list"
   ]
  },
  {
   "cell_type": "markdown",
   "metadata": {},
   "source": [
    "# Split the indexes into 90% train and 10% test data"
   ]
  },
  {
   "cell_type": "code",
   "execution_count": 470,
   "metadata": {},
   "outputs": [],
   "source": [
    "from sklearn.model_selection import train_test_split\n",
    "index_list_train, index_list_test  = train_test_split(np.array(index_list),test_size = 0.1,random_state = 1)"
   ]
  },
  {
   "cell_type": "markdown",
   "metadata": {},
   "source": [
    "# Generate u and v values using random function of numpy"
   ]
  },
  {
   "cell_type": "code",
   "execution_count": 471,
   "metadata": {},
   "outputs": [],
   "source": [
    "U = np.random.randn(610,5)\n",
    "V = np.random.randn(9724,5)"
   ]
  },
  {
   "cell_type": "markdown",
   "metadata": {},
   "source": [
    "# Defining the gradient function derived for U"
   ]
  },
  {
   "cell_type": "code",
   "execution_count": 472,
   "metadata": {},
   "outputs": [],
   "source": [
    "def gradient_wrt_u(m,lmda,u,v):\n",
    "    gradient = np.dot(np.subtract(np.dot(u,v.T) , m) , v) + lmda * u\n",
    "    return gradient"
   ]
  },
  {
   "cell_type": "markdown",
   "metadata": {},
   "source": [
    "# Defining the gradient function derived for U"
   ]
  },
  {
   "cell_type": "code",
   "execution_count": 473,
   "metadata": {},
   "outputs": [],
   "source": [
    "def gradient_wrt_v(m,lmda,u,v):\n",
    "    gradient = np.dot(np.subtract(np.dot(u,v.T) , m).T , u) + lmda * v\n",
    "    return gradient"
   ]
  },
  {
   "cell_type": "markdown",
   "metadata": {},
   "source": [
    "# Defining the objective function "
   ]
  },
  {
   "cell_type": "code",
   "execution_count": 474,
   "metadata": {},
   "outputs": [],
   "source": [
    "def compute_f(M,lmda,u,v):\n",
    "    x = 0\n",
    "    for i ,j in index_list_train:\n",
    "        x += np.power(np.subtract(M[i][j],np.dot(u[i],v[j].T)),2)\n",
    "    y = (np.power(np.linalg.norm(u,'fro'),2)+ (np.power(np.linalg.norm(v,'fro'),2)))\n",
    "    f = 0.5 * x + ((lmda/2) * y)\n",
    "    return f"
   ]
  },
  {
   "cell_type": "code",
   "execution_count": 475,
   "metadata": {},
   "outputs": [],
   "source": [
    "import matplotlib.pyplot as plt"
   ]
  },
  {
   "cell_type": "markdown",
   "metadata": {},
   "source": [
    "# Plotting the objective value against the number of iterations"
   ]
  },
  {
   "cell_type": "code",
   "execution_count": 476,
   "metadata": {},
   "outputs": [
    {
     "data": {
      "text/plain": [
       "[<matplotlib.lines.Line2D at 0x127a17588>]"
      ]
     },
     "execution_count": 476,
     "metadata": {},
     "output_type": "execute_result"
    },
    {
     "data": {
      "image/png": "[encoded data removed]",
      "text/plain": [
       "<Figure size 432x288 with 1 Axes>"
      ]
     },
     "metadata": {
      "needs_background": "light"
     },
     "output_type": "display_data"
    }
   ],
   "source": [
    "F = []\n",
    "u_new = []\n",
    "v_new = []\n",
    "for i in range(100):\n",
    "    U = U - (0.00001 * gradient_wrt_u(new_rating_data,1,U,V))\n",
    "    V = V - (0.00001 * gradient_wrt_v(new_rating_data,1,U,V))\n",
    "    v_new.append(V)\n",
    "    u_new.append(U)\n",
    "    F.append(compute_f(new_rating_data,1,U,V))\n",
    "plt.plot(range(100),F)"
   ]
  },
  {
   "cell_type": "markdown",
   "metadata": {},
   "source": [
    "# Summary of the finding \n",
    "## The obejctive function converges to a minima when U and V are updated\n",
    "## The learning 0.00001 is enough for convergence as we can see in the plot that the curve converges at 20 iterations"
   ]
  },
  {
   "cell_type": "code",
   "execution_count": 477,
   "metadata": {},
   "outputs": [],
   "source": [
    "u_final = u_new[-1]\n",
    "v_final = v_new[-1]"
   ]
  },
  {
   "cell_type": "code",
   "execution_count": 478,
   "metadata": {},
   "outputs": [],
   "source": [
    "# Defining the RMSE function "
   ]
  },
  {
   "cell_type": "code",
   "execution_count": 479,
   "metadata": {},
   "outputs": [],
   "source": [
    "def rmse(test_indices,M,final_U,final_V):\n",
    "    ans = 0\n",
    "    for i,j in test_indices:\n",
    "        ans = ans + np.power(M[i][j] - np.dot(final_U[i],np.transpose(final_V[j])),2)\n",
    "    result = np.sqrt(1/len(test_indices)*ans)\n",
    "    return result"
   ]
  },
  {
   "cell_type": "code",
   "execution_count": 480,
   "metadata": {},
   "outputs": [],
   "source": [
    "# Plotting the RMSE value for the training "
   ]
  },
  {
   "cell_type": "code",
   "execution_count": 481,
   "metadata": {},
   "outputs": [
    {
     "name": "stdout",
     "output_type": "stream",
     "text": [
      "RMSE 3.6601865564267912\n"
     ]
    }
   ],
   "source": [
    "print('RMSE',rmse(index_list_test,new_rating_data,u_final,v_final))"
   ]
  },
  {
   "cell_type": "markdown",
   "metadata": {},
   "source": [
    "# Calcualting the RMSE for the list of lamda given in the question "
   ]
  },
  {
   "cell_type": "code",
   "execution_count": 482,
   "metadata": {},
   "outputs": [],
   "source": [
    "lamda_list = [0.000001,0.001,0.1,0.5,2,5,10,20,100,500,1000]\n",
    "rmse_list_all = []\n",
    "u_final = []\n",
    "v_final = []\n",
    "for i in lamda_list:\n",
    "    U = np.random.randn(610,5)\n",
    "    V = np.random.randn(9724,5)\n",
    "    v_new = []\n",
    "    u_new = []\n",
    "    for i in range(100):\n",
    "        U = U - (0.00001 * gradient_wrt_u(new_rating_data,1,U,V))\n",
    "        V = V - (0.00001 * gradient_wrt_v(new_rating_data,1,U,V))\n",
    "        v_new.append(V)\n",
    "        u_new.append(U)\n",
    "    u_final.append(u_new[-1])\n",
    "    v_final.append(v_new[-1])"
   ]
  },
  {
   "cell_type": "code",
   "execution_count": 483,
   "metadata": {},
   "outputs": [],
   "source": [
    "for u,v in zip(u_final,v_final):\n",
    "    rmse_list_all.append(rmse(index_list_test,new_rating_data,u,v))"
   ]
  },
  {
   "cell_type": "code",
   "execution_count": 484,
   "metadata": {},
   "outputs": [
    {
     "data": {
      "text/plain": [
       "[3.660145112394827,\n",
       " 3.660212368062719,\n",
       " 3.659252964061493,\n",
       " 3.659717700598094,\n",
       " 3.659761284915995,\n",
       " 3.6601015118826723,\n",
       " 3.6599441092839897,\n",
       " 3.659668850878857,\n",
       " 3.660096402932641,\n",
       " 3.6596161397064875,\n",
       " 3.659877664785971]"
      ]
     },
     "execution_count": 484,
     "metadata": {},
     "output_type": "execute_result"
    }
   ],
   "source": [
    "rmse_list_all"
   ]
  },
  {
   "cell_type": "markdown",
   "metadata": {},
   "source": [
    "# Plotting the RMSE values against different lamda values mentioned in the question"
   ]
  },
  {
   "cell_type": "code",
   "execution_count": 485,
   "metadata": {},
   "outputs": [
    {
     "data": {
      "text/plain": [
       "[<matplotlib.lines.Line2D at 0x143244550>]"
      ]
     },
     "execution_count": 485,
     "metadata": {},
     "output_type": "execute_result"
    },
    {
     "data": {
      "image/png": "[encoded data removed]",
      "text/plain": [
       "<Figure size 432x288 with 1 Axes>"
      ]
     },
     "metadata": {
      "needs_background": "light"
     },
     "output_type": "display_data"
    }
   ],
   "source": [
    "plt.plot(lamda_list,rmse_list_all)"
   ]
  },
  {
   "cell_type": "markdown",
   "metadata": {},
   "source": [
    "# Inference\n",
    "## the value of lambda controls the regularization of the model\n",
    "## Since the value of lamda is low the value of RMSE is comparitvely very high"
   ]
  },
  {
   "cell_type": "code",
   "execution_count": null,
   "metadata": {},
   "outputs": [],
   "source": []
  }
 ],
 "metadata": {
  "kernelspec": {
   "display_name": "Python 3",
   "language": "python",
   "name": "python3"
  },
  "language_info": {
   "codemirror_mode": {
    "name": "ipython",
    "version": 3
   },
   "file_extension": ".py",
   "mimetype": "text/x-python",
   "name": "python",
   "nbconvert_exporter": "python",
   "pygments_lexer": "ipython3",
   "version": "3.7.3"
  }
 },
 "nbformat": 4,
 "nbformat_minor": 2
}
