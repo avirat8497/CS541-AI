{
  "nbformat": 4,
  "nbformat_minor": 0,
  "metadata": {
    "colab": {
      "name": "HW_3_Question_2_4.ipynb",
      "provenance": [],
      "collapsed_sections": []
    },
    "kernelspec": {
      "name": "python3",
      "display_name": "Python 3"
    }
  },
  "cells": [
    {
      "cell_type": "code",
      "metadata": {
        "id": "pAQW4jw8YF4K"
      },
      "source": [
        "import pandas as pd\n",
        "import numpy as np\n",
        "import random as rand\n",
        "from numpy.linalg import inv\n",
        "from numpy import linalg as LA\n",
        "import matplotlib.pyplot as plt"
      ],
      "execution_count": 99,
      "outputs": []
    },
    {
      "cell_type": "code",
      "metadata": {
        "id": "IbU4lOymYKBt"
      },
      "source": [
        "X = np.random.randn(100,40)"
      ],
      "execution_count": null,
      "outputs": []
    },
    {
      "cell_type": "code",
      "metadata": {
        "id": "9ErYiseXYdTf"
      },
      "source": [
        "y = np.random.randn(100)"
      ],
      "execution_count": null,
      "outputs": []
    },
    {
      "cell_type": "code",
      "metadata": {
        "id": "Icjdxhu1ZvwD"
      },
      "source": [
        "Xt = X.transpose()"
      ],
      "execution_count": null,
      "outputs": []
    },
    {
      "cell_type": "code",
      "metadata": {
        "id": "QkR4Vq6KbE5I",
        "outputId": "86267e45-ef17-4a0c-a888-01816f46fc29",
        "colab": {
          "base_uri": "https://localhost:8080/"
        }
      },
      "source": [
        "prod = np.dot(Xt,X)\n",
        "print(prod)"
      ],
      "execution_count": null,
      "outputs": [
        {
          "output_type": "stream",
          "text": [
            "[[ 90.76153209  -8.71502336   8.46618326 ...   1.34719629   6.32160992\n",
            "    5.96321802]\n",
            " [ -8.71502336 103.24778632  -8.43197341 ... -10.04787195   3.09147893\n",
            "   -0.54532778]\n",
            " [  8.46618326  -8.43197341  93.51493182 ...  -4.38100404 -11.69759766\n",
            "  -10.31429946]\n",
            " ...\n",
            " [  1.34719629 -10.04787195  -4.38100404 ... 111.21128693   8.26566642\n",
            "   11.20879241]\n",
            " [  6.32160992   3.09147893 -11.69759766 ...   8.26566642 103.2323574\n",
            "   20.19978223]\n",
            " [  5.96321802  -0.54532778 -10.31429946 ...  11.20879241  20.19978223\n",
            "   72.30534171]]\n"
          ],
          "name": "stdout"
        }
      ]
    },
    {
      "cell_type": "code",
      "metadata": {
        "id": "sW1YN-AQbXe1",
        "outputId": "c4a05a06-c4aa-42eb-960d-384b1dcf49eb",
        "colab": {
          "base_uri": "https://localhost:8080/"
        }
      },
      "source": [
        "prod.shape"
      ],
      "execution_count": null,
      "outputs": [
        {
          "output_type": "execute_result",
          "data": {
            "text/plain": [
              "(40, 40)"
            ]
          },
          "metadata": {
            "tags": []
          },
          "execution_count": 45
        }
      ]
    },
    {
      "cell_type": "code",
      "metadata": {
        "id": "4lAd1b0tcC8k"
      },
      "source": [
        "inv_prod = inv(prod)"
      ],
      "execution_count": null,
      "outputs": []
    },
    {
      "cell_type": "code",
      "metadata": {
        "id": "ns45Io6YcHTu",
        "outputId": "667022f1-4392-4f13-a350-eac351bacc65",
        "colab": {
          "base_uri": "https://localhost:8080/"
        }
      },
      "source": [
        "print(inv_prod)"
      ],
      "execution_count": null,
      "outputs": [
        {
          "output_type": "stream",
          "text": [
            "[[ 1.73013967e-02  2.38224914e-04  4.01680649e-05 ...  6.88228325e-04\n",
            "  -2.31451325e-03 -1.84088282e-03]\n",
            " [ 2.38224914e-04  1.43752934e-02  1.55231934e-04 ...  3.24086099e-03\n",
            "  -7.41976762e-04 -2.79431282e-04]\n",
            " [ 4.01680649e-05  1.55231934e-04  1.70909488e-02 ...  1.67472066e-04\n",
            "   1.52434334e-03  1.06987489e-03]\n",
            " ...\n",
            " [ 6.88228325e-04  3.24086099e-03  1.67472066e-04 ...  1.91093912e-02\n",
            "  -3.86772800e-03 -9.96273232e-04]\n",
            " [-2.31451325e-03 -7.41976762e-04  1.52434334e-03 ... -3.86772800e-03\n",
            "   1.74032552e-02 -3.08817141e-03]\n",
            " [-1.84088282e-03 -2.79431282e-04  1.06987489e-03 ... -9.96273232e-04\n",
            "  -3.08817141e-03  2.13138570e-02]]\n"
          ],
          "name": "stdout"
        }
      ]
    },
    {
      "cell_type": "code",
      "metadata": {
        "id": "5Q_beu3VcJpS",
        "outputId": "64cf5ea4-4647-4ba9-df32-ea3aa38bd820",
        "colab": {
          "base_uri": "https://localhost:8080/"
        }
      },
      "source": [
        "inv_prod.shape"
      ],
      "execution_count": null,
      "outputs": [
        {
          "output_type": "execute_result",
          "data": {
            "text/plain": [
              "(40, 40)"
            ]
          },
          "metadata": {
            "tags": []
          },
          "execution_count": 48
        }
      ]
    },
    {
      "cell_type": "code",
      "metadata": {
        "id": "hmgBoWYccLk9"
      },
      "source": [
        "w1 = np.dot(inv_prod,Xt)"
      ],
      "execution_count": null,
      "outputs": []
    },
    {
      "cell_type": "code",
      "metadata": {
        "id": "RtaeRTiMc-bu"
      },
      "source": [
        "w_opt = np.dot(w1,y)"
      ],
      "execution_count": null,
      "outputs": []
    },
    {
      "cell_type": "code",
      "metadata": {
        "id": "m7SOEoQQdDEa",
        "outputId": "6889c684-1b2f-4fc8-cd4d-24f2e9d82a33",
        "colab": {
          "base_uri": "https://localhost:8080/"
        }
      },
      "source": [
        "w_opt.shape"
      ],
      "execution_count": null,
      "outputs": [
        {
          "output_type": "execute_result",
          "data": {
            "text/plain": [
              "(40,)"
            ]
          },
          "metadata": {
            "tags": []
          },
          "execution_count": 51
        }
      ]
    },
    {
      "cell_type": "code",
      "metadata": {
        "id": "XTXsbr7SdKtz",
        "outputId": "a3c350f2-f815-44d3-d7f0-df5e50814e8f",
        "colab": {
          "base_uri": "https://localhost:8080/"
        }
      },
      "source": [
        "w_opt"
      ],
      "execution_count": 84,
      "outputs": [
        {
          "output_type": "execute_result",
          "data": {
            "text/plain": [
              "array([-0.02898741,  0.01001149,  0.30208239, -0.24413118,  0.10892516,\n",
              "       -0.07585508, -0.1502734 , -0.08061005,  0.04393759, -0.0803156 ,\n",
              "       -0.04909295,  0.00670308,  0.05378326,  0.04573993, -0.14819327,\n",
              "        0.05165996,  0.0066549 ,  0.1336827 , -0.22871013,  0.03545737,\n",
              "       -0.19818724, -0.02375253, -0.0095765 ,  0.21042479, -0.05262919,\n",
              "        0.17461495, -0.01006753,  0.27110617,  0.01444553,  0.06733   ,\n",
              "       -0.03084703, -0.21384764,  0.01150838, -0.07750497,  0.00202987,\n",
              "        0.05261432,  0.12300707,  0.13807096, -0.08010703, -0.0490414 ])"
            ]
          },
          "metadata": {
            "tags": []
          },
          "execution_count": 84
        }
      ]
    },
    {
      "cell_type": "code",
      "metadata": {
        "id": "keOzEAspdL9H"
      },
      "source": [
        "hessian_matrix = np.dot(Xt,X)"
      ],
      "execution_count": null,
      "outputs": []
    },
    {
      "cell_type": "code",
      "metadata": {
        "id": "OPcGbWQAgLop",
        "outputId": "1972aa8c-6e95-4d3f-d903-3294ec239b27",
        "colab": {
          "base_uri": "https://localhost:8080/"
        }
      },
      "source": [
        "hessian_matrix"
      ],
      "execution_count": null,
      "outputs": [
        {
          "output_type": "execute_result",
          "data": {
            "text/plain": [
              "array([[ 90.76153209,  -8.71502336,   8.46618326, ...,   1.34719629,\n",
              "          6.32160992,   5.96321802],\n",
              "       [ -8.71502336, 103.24778632,  -8.43197341, ..., -10.04787195,\n",
              "          3.09147893,  -0.54532778],\n",
              "       [  8.46618326,  -8.43197341,  93.51493182, ...,  -4.38100404,\n",
              "        -11.69759766, -10.31429946],\n",
              "       ...,\n",
              "       [  1.34719629, -10.04787195,  -4.38100404, ..., 111.21128693,\n",
              "          8.26566642,  11.20879241],\n",
              "       [  6.32160992,   3.09147893, -11.69759766, ...,   8.26566642,\n",
              "        103.2323574 ,  20.19978223],\n",
              "       [  5.96321802,  -0.54532778, -10.31429946, ...,  11.20879241,\n",
              "         20.19978223,  72.30534171]])"
            ]
          },
          "metadata": {
            "tags": []
          },
          "execution_count": 54
        }
      ]
    },
    {
      "cell_type": "code",
      "metadata": {
        "id": "zTp2pOndgNPm",
        "outputId": "ab43bdc8-e32e-45c8-b709-824f286ba06e",
        "colab": {
          "base_uri": "https://localhost:8080/"
        }
      },
      "source": [
        "hessian_matrix.shape"
      ],
      "execution_count": null,
      "outputs": [
        {
          "output_type": "execute_result",
          "data": {
            "text/plain": [
              "(40, 40)"
            ]
          },
          "metadata": {
            "tags": []
          },
          "execution_count": 55
        }
      ]
    },
    {
      "cell_type": "code",
      "metadata": {
        "id": "qiJk1E_GgPnY"
      },
      "source": [
        "eigenvalue = LA.eigvals(hessian_matrix)"
      ],
      "execution_count": 73,
      "outputs": []
    },
    {
      "cell_type": "code",
      "metadata": {
        "id": "lFOyvk_HgxVX",
        "outputId": "948d1352-6a10-405e-a7cd-a658865ed3bf",
        "colab": {
          "base_uri": "https://localhost:8080/"
        }
      },
      "source": [
        "eigenvalue"
      ],
      "execution_count": 74,
      "outputs": [
        {
          "output_type": "execute_result",
          "data": {
            "text/plain": [
              "array([255.19625947, 234.03228085, 230.08516769, 214.85995993,\n",
              "       198.30862196, 191.07526923, 171.37468587, 165.24205118,\n",
              "       158.41189079, 152.34404648, 146.95549879, 130.30935612,\n",
              "       126.70789998, 121.42600885, 115.30686818, 110.88348079,\n",
              "       106.09811207,  19.07201764,  20.87168296,  24.35133828,\n",
              "        26.91322992,  30.58955553,  32.15492492,  35.78547825,\n",
              "        37.20346729,  40.85057089,  97.83342807,  93.94636677,\n",
              "        86.60920765,  84.83816765,  82.98923798,  77.01288152,\n",
              "        48.62173643,  50.63998811,  54.72366597,  56.73611021,\n",
              "        69.41190683,  61.99934122,  63.3954499 ,  66.44684911])"
            ]
          },
          "metadata": {
            "tags": []
          },
          "execution_count": 74
        }
      ]
    },
    {
      "cell_type": "code",
      "metadata": {
        "id": "hfgq4LWVg3H6",
        "outputId": "7a3b0255-2d65-4071-8c80-a22ed6ccd0d8",
        "colab": {
          "base_uri": "https://localhost:8080/"
        }
      },
      "source": [
        "type(eigenvalue)"
      ],
      "execution_count": 75,
      "outputs": [
        {
          "output_type": "execute_result",
          "data": {
            "text/plain": [
              "numpy.ndarray"
            ]
          },
          "metadata": {
            "tags": []
          },
          "execution_count": 75
        }
      ]
    },
    {
      "cell_type": "code",
      "metadata": {
        "id": "Q3amnrFlg5rQ"
      },
      "source": [
        "max = max(eigenvalue)"
      ],
      "execution_count": 80,
      "outputs": []
    },
    {
      "cell_type": "code",
      "metadata": {
        "id": "7OX2NtschCXP",
        "outputId": "a6ff8c93-26cd-4844-a39f-a989b0b86bac",
        "colab": {
          "base_uri": "https://localhost:8080/"
        }
      },
      "source": [
        "min(eigenvalue)"
      ],
      "execution_count": 81,
      "outputs": [
        {
          "output_type": "execute_result",
          "data": {
            "text/plain": [
              "19.072017638922695"
            ]
          },
          "metadata": {
            "tags": []
          },
          "execution_count": 81
        }
      ]
    },
    {
      "cell_type": "code",
      "metadata": {
        "id": "qOHHOoQnnee0",
        "outputId": "2e9bbc3e-c351-4824-97fa-79dcd0b25c8e",
        "colab": {
          "base_uri": "https://localhost:8080/"
        }
      },
      "source": [
        "upper_bound = 1 / max\n",
        "print(upper_bound)"
      ],
      "execution_count": 82,
      "outputs": [
        {
          "output_type": "stream",
          "text": [
            "0.003918552733038749\n"
          ],
          "name": "stdout"
        }
      ]
    },
    {
      "cell_type": "code",
      "metadata": {
        "id": "AoQCEl8hoVaM",
        "outputId": "e24cd40b-8585-4ba4-8132-26553606a767",
        "colab": {
          "base_uri": "https://localhost:8080/"
        }
      },
      "source": [
        "w = np.zeros((40,))\n",
        "w"
      ],
      "execution_count": 91,
      "outputs": [
        {
          "output_type": "execute_result",
          "data": {
            "text/plain": [
              "array([0., 0., 0., 0., 0., 0., 0., 0., 0., 0., 0., 0., 0., 0., 0., 0., 0.,\n",
              "       0., 0., 0., 0., 0., 0., 0., 0., 0., 0., 0., 0., 0., 0., 0., 0., 0.,\n",
              "       0., 0., 0., 0., 0., 0.])"
            ]
          },
          "metadata": {
            "tags": []
          },
          "execution_count": 91
        }
      ]
    },
    {
      "cell_type": "code",
      "metadata": {
        "id": "a7KMdscAvTcr"
      },
      "source": [
        "gd = [0.01,0.1,1,2,20,100]"
      ],
      "execution_count": 100,
      "outputs": []
    },
    {
      "cell_type": "code",
      "metadata": {
        "id": "X1ozuhOvs49R",
        "outputId": "09298069-6173-4645-b6b4-e2712640a2e3",
        "colab": {
          "base_uri": "https://localhost:8080/"
        }
      },
      "source": [
        "lr = np.multiply(upper_bound,gd)\n",
        "lr"
      ],
      "execution_count": 103,
      "outputs": [
        {
          "output_type": "execute_result",
          "data": {
            "text/plain": [
              "array([3.91855273e-05, 3.91855273e-04, 3.91855273e-03, 7.83710547e-03,\n",
              "       7.83710547e-02, 3.91855273e-01])"
            ]
          },
          "metadata": {
            "tags": []
          },
          "execution_count": 103
        }
      ]
    },
    {
      "cell_type": "code",
      "metadata": {
        "id": "NBkMW0dBrLQ5",
        "outputId": "f6454c94-dd89-4439-c3b4-f21877b1b1c1",
        "colab": {
          "base_uri": "https://localhost:8080/",
          "height": 1000
        }
      },
      "source": [
        "for j in lr:\n",
        "  wt_new = []\n",
        "  wt_new.append(w)\n",
        "  for i in range(1,101):\n",
        "    wt_new.append(wt_new[i-1] + j*np.dot(Xt,(y-np.dot(X,wt_new[i-1])))) \n",
        "  norm = []\n",
        "  for i in range(1,101):\n",
        "    norm.append(LA.norm(wt_new[i] - w_opt))\n",
        "  plt.plot(range(1,101),norm)\n",
        "  plt.show()"
      ],
      "execution_count": 107,
      "outputs": [
        {
          "output_type": "display_data",
          "data": {
            "image/png": "[encoded data removed]",
            "text/plain": [
              "<Figure size 432x288 with 1 Axes>"
            ]
          },
          "metadata": {
            "tags": [],
            "needs_background": "light"
          }
        },
        {
          "output_type": "display_data",
          "data": {
            "image/png": "[encoded data removed]",
            "text/plain": [
              "<Figure size 432x288 with 1 Axes>"
            ]
          },
          "metadata": {
            "tags": [],
            "needs_background": "light"
          }
        },
        {
          "output_type": "display_data",
          "data": {
            "image/png": "[encoded data removed]",
            "text/plain": [
              "<Figure size 432x288 with 1 Axes>"
            ]
          },
          "metadata": {
            "tags": [],
            "needs_background": "light"
          }
        },
        {
          "output_type": "display_data",
          "data": {
            "image/png": "[encoded data removed]",
            "text/plain": [
              "<Figure size 432x288 with 1 Axes>"
            ]
          },
          "metadata": {
            "tags": [],
            "needs_background": "light"
          }
        },
        {
          "output_type": "display_data",
          "data": {
            "image/png": "[encoded data removed]",
            "text/plain": [
              "<Figure size 432x288 with 1 Axes>"
            ]
          },
          "metadata": {
            "tags": [],
            "needs_background": "light"
          }
        },
        {
          "output_type": "display_data",
          "data": {
            "image/png": "[encoded data removed]",
            "text/plain": [
              "<Figure size 432x288 with 1 Axes>"
            ]
          },
          "metadata": {
            "tags": [],
            "needs_background": "light"
          }
        }
      ]
    }
  ]
}